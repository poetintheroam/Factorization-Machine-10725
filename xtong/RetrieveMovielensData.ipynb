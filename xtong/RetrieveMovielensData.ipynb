{
 "cells": [
  {
   "cell_type": "code",
   "execution_count": 79,
   "metadata": {
    "collapsed": false
   },
   "outputs": [],
   "source": [
    "import numpy as np\n",
    "from sklearn.feature_extraction import DictVectorizer\n",
    "from sklearn.preprocessing import OneHotEncoder\n",
    "# from pyfm import pylibfm\n",
    "\n",
    "enc = OneHotEncoder()\n",
    "# Read in data\n",
    "def loadData(filename,path=\"../datasets/ml-100k/\"):\n",
    "    data = []\n",
    "    y = []\n",
    "    users=set()\n",
    "    items=set()\n",
    "    dictionary = {}\n",
    "    with open(path+filename) as f:\n",
    "        for line in f:\n",
    "            (user,movieid,rating,ts)=line.split('\\t')\n",
    "            user, movieid = int(user)-1, int(movieid)-1\n",
    "            if user not in dictionary:\n",
    "                dictionary[user] = [movieid]\n",
    "            else:\n",
    "                dictionary[user].append(movieid)\n",
    "            data.append([user, movieid])\n",
    "            y.append(float(rating))\n",
    "            users.add(user)\n",
    "            items.add(movieid)\n",
    "\n",
    "    return (data, np.array(y), users, items, dictionary)\n",
    "\n",
    "(train_data, y_train, train_users, train_items, train_dict) = loadData(\"ua.base\")\n",
    "(test_data, y_test, test_users, test_items, test_dict) = loadData(\"ua.test\")\n",
    "\n",
    "n_items = max(len(train_items), len(test_items))\n",
    "n_users = max(len(train_users), len(test_users))\n",
    "# Build and train a Factorization Machine\n",
    "# fm = pylibfm.FM(num_factors=10, num_iter=100, verbose=True, task=\"regression\", initial_learning_rate=0.001, learning_rate_schedule=\"optimal\")"
   ]
  },
  {
   "cell_type": "code",
   "execution_count": 37,
   "metadata": {
    "collapsed": false
   },
   "outputs": [],
   "source": [
    "import scipy.io as sio\n",
    "\n",
    "sio.savemat(\"movielens100k.mat\",{\"X_train\":train_data, \"X_test\":test_data, \"y_train\":y_train, \"y_test\":y_test})"
   ]
  },
  {
   "cell_type": "code",
   "execution_count": 61,
   "metadata": {
    "collapsed": false
   },
   "outputs": [],
   "source": [
    "def get_blank():\n",
    "    return np.zeros((n_users+n_items+n_users,1))\n",
    "\n",
    "blank = get_blank()"
   ]
  },
  {
   "cell_type": "code",
   "execution_count": 58,
   "metadata": {
    "collapsed": false
   },
   "outputs": [],
   "source": [
    "blank[np.array([2,3,4,5])] = 100"
   ]
  },
  {
   "cell_type": "code",
   "execution_count": 67,
   "metadata": {
    "collapsed": false
   },
   "outputs": [
    {
     "data": {
      "text/plain": [
       "4303"
      ]
     },
     "execution_count": 67,
     "metadata": {},
     "output_type": "execute_result"
    }
   ],
   "source": [
    "n_users+n_items+n_items"
   ]
  },
  {
   "cell_type": "code",
   "execution_count": 80,
   "metadata": {
    "collapsed": false
   },
   "outputs": [],
   "source": [
    "def get_blank():\n",
    "    return np.zeros((n_users+n_items+n_items,1))\n",
    "\n",
    "processed_data = [[], []]\n",
    "for i, item in enumerate([(train_data, train_dict), (test_data, test_dict)]):\n",
    "    dataset, dictionary = item[0], item[1]\n",
    "    for data in dataset:\n",
    "        blank = get_blank()\n",
    "        user, item = data\n",
    "        blank[user] = 1\n",
    "        blank[n_users-1+item] = 1\n",
    "        items_rated = dictionary[user]\n",
    "        blank[np.array(items_rated)+n_users+n_items-2] = 1.0/len(items_rated)\n",
    "        processed_data[i].append(blank.reshape(-1))\n",
    "\n",
    "train_data, test_data = np.array(processed_data[0]), np.array(processed_data[1])"
   ]
  },
  {
   "cell_type": "code",
   "execution_count": 83,
   "metadata": {
    "collapsed": true
   },
   "outputs": [],
   "source": [
    "import scipy.io as sio\n",
    "\n",
    "sio.savemat('movielens100k.mat', {'xtrain':train_data, 'ytrain':y_train, 'xtest':test_data, 'ytest':y_test})"
   ]
  },
  {
   "cell_type": "code",
   "execution_count": 82,
   "metadata": {
    "collapsed": false
   },
   "outputs": [
    {
     "data": {
      "text/plain": [
       "(90570, 4303)"
      ]
     },
     "execution_count": 82,
     "metadata": {},
     "output_type": "execute_result"
    }
   ],
   "source": [
    "train_data.shape"
   ]
  },
  {
   "cell_type": "code",
   "execution_count": null,
   "metadata": {
    "collapsed": true
   },
   "outputs": [],
   "source": [
    "for data in dataset:\n",
    "    "
   ]
  },
  {
   "cell_type": "code",
   "execution_count": 40,
   "metadata": {
    "collapsed": false
   },
   "outputs": [],
   "source": [
    "base = np.zeros((n_users+n_items+n_users,1))\n",
    "base2 = base"
   ]
  },
  {
   "cell_type": "code",
   "execution_count": 49,
   "metadata": {
    "collapsed": false
   },
   "outputs": [],
   "source": [
    "a, b  = (0,1)"
   ]
  },
  {
   "cell_type": "code",
   "execution_count": 41,
   "metadata": {
    "collapsed": false
   },
   "outputs": [],
   "source": [
    "base2[0] = 100"
   ]
  }
 ],
 "metadata": {
  "kernelspec": {
   "display_name": "Python 2",
   "language": "python",
   "name": "python2"
  },
  "language_info": {
   "codemirror_mode": {
    "name": "ipython",
    "version": 2
   },
   "file_extension": ".py",
   "mimetype": "text/x-python",
   "name": "python",
   "nbconvert_exporter": "python",
   "pygments_lexer": "ipython2",
   "version": "2.7.12"
  }
 },
 "nbformat": 4,
 "nbformat_minor": 0
}
