{
 "cells": [
  {
   "cell_type": "code",
   "execution_count": 715,
   "metadata": {
    "collapsed": false
   },
   "outputs": [
    {
     "name": "stdout",
     "output_type": "stream",
     "text": [
      "w_sparse_W_block_p1000_1.mat\n",
      "gFM using solver state-of-the-art\n",
      "stop initialzation\n",
      "w_sparse_W_block_p1000_2.mat\n",
      "gFM using solver state-of-the-art\n",
      "stop initialzation\n",
      "w_sparse_W_block_p1000_3.mat\n",
      "gFM using solver state-of-the-art\n",
      "stop initialzation\n"
     ]
    },
    {
     "ename": "KeyboardInterrupt",
     "evalue": "",
     "output_type": "error",
     "traceback": [
      "\u001b[0;31m---------------------------------------------------------------------------\u001b[0m",
      "\u001b[0;31mKeyboardInterrupt\u001b[0m                         Traceback (most recent call last)",
      "\u001b[0;32m<ipython-input-715-81b45c27750b>\u001b[0m in \u001b[0;36m<module>\u001b[0;34m()\u001b[0m\n\u001b[1;32m     30\u001b[0m     \u001b[0mtrainset_error_record\u001b[0m\u001b[0;34m,\u001b[0m \u001b[0mtestset_error_record\u001b[0m \u001b[0;34m=\u001b[0m \u001b[0;34m[\u001b[0m\u001b[0;34m]\u001b[0m\u001b[0;34m,\u001b[0m \u001b[0;34m[\u001b[0m\u001b[0;34m]\u001b[0m\u001b[0;34m\u001b[0m\u001b[0m\n\u001b[1;32m     31\u001b[0m     \u001b[0;32mfor\u001b[0m \u001b[0mi\u001b[0m \u001b[0;32min\u001b[0m \u001b[0mxrange\u001b[0m\u001b[0;34m(\u001b[0m\u001b[0miterations\u001b[0m\u001b[0;34m)\u001b[0m\u001b[0;34m:\u001b[0m\u001b[0;34m\u001b[0m\u001b[0m\n\u001b[0;32m---> 32\u001b[0;31m         \u001b[0mthe_estimator\u001b[0m\u001b[0;34m.\u001b[0m\u001b[0mfit\u001b[0m\u001b[0;34m(\u001b[0m\u001b[0mxtrain\u001b[0m\u001b[0;34m,\u001b[0m \u001b[0mytrain\u001b[0m\u001b[0;34m,\u001b[0m \u001b[0mn_more_iter\u001b[0m\u001b[0;34m=\u001b[0m\u001b[0;36m10\u001b[0m\u001b[0;34m)\u001b[0m\u001b[0;34m\u001b[0m\u001b[0m\n\u001b[0m\u001b[1;32m     33\u001b[0m         \u001b[0my_hat_grad_train\u001b[0m \u001b[0;34m=\u001b[0m \u001b[0mthe_estimator\u001b[0m\u001b[0;34m.\u001b[0m\u001b[0mpredict\u001b[0m\u001b[0;34m(\u001b[0m\u001b[0mxtrain\u001b[0m\u001b[0;34m)\u001b[0m\u001b[0;34m\u001b[0m\u001b[0m\n\u001b[1;32m     34\u001b[0m         \u001b[0my_hat_grad_test\u001b[0m \u001b[0;34m=\u001b[0m \u001b[0mthe_estimator\u001b[0m\u001b[0;34m.\u001b[0m\u001b[0mpredict\u001b[0m\u001b[0;34m(\u001b[0m\u001b[0mxtest\u001b[0m\u001b[0;34m)\u001b[0m\u001b[0;34m\u001b[0m\u001b[0m\n",
      "\u001b[0;32mgFM.py\u001b[0m in \u001b[0;36mfit\u001b[0;34m(self, X, y, sample_weight, n_more_iter, X_is_zscore_normalized)\u001b[0m\n",
      "\u001b[0;32mgFM.py\u001b[0m in \u001b[0;36mfit_diag_not_zero\u001b[0;34m(self, X, y, sample_weight, n_more_iter, X_is_zscore_normalized)\u001b[0m\n",
      "\u001b[0;31mKeyboardInterrupt\u001b[0m: "
     ]
    }
   ],
   "source": [
    "import glob, os\n",
    "import scipy.io as sio\n",
    "import numpy as np\n",
    "\n",
    "os.chdir(\"../simulated_data/\")\n",
    "\n",
    "numtrain = 400\n",
    "iterations = 100\n",
    "rank_k = 10\n",
    "\n",
    "\n",
    "def get_data(file):\n",
    "    data = sio.loadmat(file)['data'][0]\n",
    "    x, y, w0, w, W = data[0], data[1].reshape(-1), data[2], data[3], data[4]\n",
    "    xtrain, ytrain, xtest, ytest = x[:numtrain,:], y[:numtrain], x[numtrain:,:], y[numtrain:]\n",
    "    \n",
    "    return xtrain, ytrain, xtest, ytest, w0, w, W\n",
    "\n",
    "\n",
    "for i, file in enumerate(glob.glob(\"*.mat\")):\n",
    "    print file\n",
    "    the_estimator = gFM.BatchRegression(rank_k=rank_k, max_init_iter=max_init_iter, learning_rate=0.001, init_tol=1e-4, tol=0, diag_zero=False)\n",
    "\n",
    "    xtrain, ytrain, xtest, ytest, w0, w, W = get_data(file)\n",
    "    ytruetrain = w0 + np.dot(xtrain, w) + np.expand_dims(np.diagonal(xtrain.dot(W).dot(xtrain.T)),axis=1)\n",
    "    ytruetest = w0 + np.dot(xtest, w) + np.expand_dims(np.diagonal(xtest.dot(W).dot(xtest.T)),axis=1)\n",
    "    \n",
    "    y = (X.dot(w_true) + gFM.A_diag0(U_true, U_true, X.T)-0.5).flatten()\n",
    "    \n",
    "    trainset_error_record, testset_error_record = [], []\n",
    "    for i in xrange(iterations):\n",
    "        the_estimator.fit(xtrain, ytrain, n_more_iter=10)\n",
    "        y_hat_grad_train = the_estimator.predict(xtrain)\n",
    "        y_hat_grad_test = the_estimator.predict(xtest)\n",
    "\n",
    "        trainerror = sklearn.metrics.mean_absolute_error(ytrain, y_hat_grad_train) / sklearn.metrics.mean_absolute_error(ytrain, numpy.zeros((len(ytrain),)))\n",
    "        testerror = sklearn.metrics.mean_absolute_error(ytest, y_hat_grad_test) / sklearn.metrics.mean_absolute_error(ytest, numpy.zeros((len(ytest),)))\n",
    "        trainset_error_record.append(trainerror)\n",
    "        testset_error_record.append(testerror)\n",
    "        \n",
    "    plt.semilogy(range(100), trainset_error_record, '-b', label='train error')\n",
    "    plt.semilogy(range(100), testset_error_record, '-r', label='test error')\n",
    "    plt.legend()\n",
    "    plt.savefig('../results/gFM/noisey/'+file+'_train_test_curve'+'.png')\n",
    "    plt.close()\n",
    "    "
   ]
  },
  {
   "cell_type": "code",
   "execution_count": 706,
   "metadata": {
    "collapsed": false
   },
   "outputs": [],
   "source": [
    "ytruetrain = w0 + np.dot(xtrain, w) + np.expand_dims(np.diagonal(xtrain.dot(W).dot(xtrain.T)),axis=1)"
   ]
  },
  {
   "cell_type": "code",
   "execution_count": 701,
   "metadata": {
    "collapsed": false
   },
   "outputs": [
    {
     "data": {
      "text/plain": [
       "(400,)"
      ]
     },
     "execution_count": 701,
     "metadata": {},
     "output_type": "execute_result"
    }
   ],
   "source": [
    "np.diagonal(xtrain.dot(W).dot(xtrain.T)).shape"
   ]
  },
  {
   "cell_type": "code",
   "execution_count": 707,
   "metadata": {
    "collapsed": false
   },
   "outputs": [
    {
     "data": {
      "text/plain": [
       "(400, 1)"
      ]
     },
     "execution_count": 707,
     "metadata": {},
     "output_type": "execute_result"
    }
   ],
   "source": [
    "ytruetrain.shape"
   ]
  },
  {
   "cell_type": "code",
   "execution_count": 679,
   "metadata": {
    "collapsed": false
   },
   "outputs": [
    {
     "name": "stdout",
     "output_type": "stream",
     "text": [
      "0.960481735093\n",
      "0.944036581342\n"
     ]
    }
   ],
   "source": [
    "the_estimator = gFM.BatchRegression(rank_k=rank_k, max_init_iter=max_init_iter, learning_rate=0.001, init_tol=1e-4, tol=0, diag_zero=False)\n",
    "\n",
    "the_estimator.fit(xtrain, ytrain, n_more_iter=100)\n",
    "y_hat_grad_train = the_estimator.predict(xtrain)    \n",
    "y_hat_grad_test = the_estimator.predict(xtest)\n",
    "\n",
    "trainerror = sklearn.metrics.mean_absolute_error(ytrain, y_hat_grad_train) / sklearn.metrics.mean_absolute_error(ytrain, numpy.zeros((len(ytrain),)))\n",
    "trainerror = sklearn.metrics.mean_absolute_error(ytest, y_hat_grad_test) / sklearn.metrics.mean_absolute_error(ytest, numpy.zeros((len(ytest),)))\n",
    "\n",
    "print trainerror\n",
    "print testerror"
   ]
  }
 ],
 "metadata": {
  "kernelspec": {
   "display_name": "Python 2",
   "language": "python",
   "name": "python2"
  },
  "language_info": {
   "codemirror_mode": {
    "name": "ipython",
    "version": 2
   },
   "file_extension": ".py",
   "mimetype": "text/x-python",
   "name": "python",
   "nbconvert_exporter": "python",
   "pygments_lexer": "ipython2",
   "version": "2.7.12"
  }
 },
 "nbformat": 4,
 "nbformat_minor": 0
}
